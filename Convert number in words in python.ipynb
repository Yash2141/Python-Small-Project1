{
 "cells": [
  {
   "cell_type": "code",
   "execution_count": 1,
   "id": "da8a079a",
   "metadata": {},
   "outputs": [],
   "source": [
    "# Program to input a number upto 5 digits and print it in words"
   ]
  },
  {
   "cell_type": "code",
   "execution_count": 17,
   "id": "51fb577d",
   "metadata": {},
   "outputs": [
    {
     "name": "stdout",
     "output_type": "stream",
     "text": [
      "Enter a number55\n",
      "Fifty Five\n"
     ]
    }
   ],
   "source": [
    "number = [\"\",\"one\",\"Two\",\"Three\",\"Four\",\"Five\",\"Six\",\"Seven\",\"Eight\",\"Nine\"]\n",
    "nty = [\"\",\"\",\"Twenty\",\"Thirty\",\"Fourty\",\"Fifty\",\"Sixty\",\"Seventy\",\"Eighty\",\"Ninty\"]\n",
    "tens =[\"Ten\",\"Eleven\",\"Twelve\",\"Thirteen\",\"Fourteen\",\"Fifteen\",\"Sixteen\",\"Seventeen\",\"Eighteen\",\"Nineteen\"]\n",
    "\n",
    "n = int(input(\"Enter a number\"))\n",
    "if n>99999:\n",
    "    print(\"Cant solve for more than 5 digits\")\n",
    "else:\n",
    "    d=[0,0,0,0,0]\n",
    "    i=0\n",
    "    while n>0:\n",
    "        d[i]= n%10\n",
    "        i+=1\n",
    "        n=n//10\n",
    "    num= \"\"\n",
    "    if d[4]!=0:\n",
    "        if(d[4]==1):\n",
    "            num+= tens[d[3]]+ \" Thousand \"\n",
    "        else:\n",
    "            num+=nty[d[4]]+ \" \"+number[d[3]]+ \" Thousand \"\n",
    "    else:\n",
    "            if d[3]!=0:\n",
    "                num+=number[d[3]]+ \" Thousand\"\n",
    "    if d[2] != 0:\n",
    "        num+= number[d[2]]+\" Hundred\"\n",
    "    if d[1] != 0:\n",
    "        if (d[1] == 1):\n",
    "            num+= tens[d(0)]\n",
    "        else:\n",
    "            num += nty[d[1]] + \" \" + number[d[0]]\n",
    "    else:\n",
    "        if d[0] != 0:\n",
    "            num += number[d[0]]\n",
    "    print(num)"
   ]
  },
  {
   "cell_type": "code",
   "execution_count": null,
   "id": "3deae8e8",
   "metadata": {},
   "outputs": [],
   "source": []
  },
  {
   "cell_type": "code",
   "execution_count": null,
   "id": "953d449c",
   "metadata": {},
   "outputs": [],
   "source": []
  }
 ],
 "metadata": {
  "kernelspec": {
   "display_name": "Python 3 (ipykernel)",
   "language": "python",
   "name": "python3"
  },
  "language_info": {
   "codemirror_mode": {
    "name": "ipython",
    "version": 3
   },
   "file_extension": ".py",
   "mimetype": "text/x-python",
   "name": "python",
   "nbconvert_exporter": "python",
   "pygments_lexer": "ipython3",
   "version": "3.9.7"
  }
 },
 "nbformat": 4,
 "nbformat_minor": 5
}
