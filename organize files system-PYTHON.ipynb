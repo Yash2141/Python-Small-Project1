{
 "cells": [
  {
   "cell_type": "code",
   "execution_count": 1,
   "id": "a33f580a",
   "metadata": {},
   "outputs": [],
   "source": [
    "import os"
   ]
  },
  {
   "cell_type": "code",
   "execution_count": 6,
   "id": "a34ccaf8",
   "metadata": {},
   "outputs": [],
   "source": [
    "path = r\"Enter the path\""
   ]
  },
  {
   "cell_type": "code",
   "execution_count": 3,
   "id": "f75e1be8",
   "metadata": {},
   "outputs": [],
   "source": [
    "# To access the path\n",
    "files = os.listdir(path) "
   ]
  },
  {
   "cell_type": "code",
   "execution_count": 4,
   "id": "58457748",
   "metadata": {},
   "outputs": [],
   "source": [
    "#empty list to store the files\n",
    "extensions = []                 "
   ]
  },
  {
   "cell_type": "code",
   "execution_count": 7,
   "id": "787effae",
   "metadata": {},
   "outputs": [
    {
     "ename": "NameError",
     "evalue": "name 'files' is not defined",
     "output_type": "error",
     "traceback": [
      "\u001b[1;31m---------------------------------------------------------------------------\u001b[0m",
      "\u001b[1;31mNameError\u001b[0m                                 Traceback (most recent call last)",
      "\u001b[1;32m~\\AppData\\Local\\Temp/ipykernel_5900/1831075499.py\u001b[0m in \u001b[0;36m<module>\u001b[1;34m\u001b[0m\n\u001b[0;32m      1\u001b[0m \u001b[1;31m# Split all file extension from the dir\u001b[0m\u001b[1;33m\u001b[0m\u001b[1;33m\u001b[0m\u001b[0m\n\u001b[1;32m----> 2\u001b[1;33m \u001b[1;32mfor\u001b[0m \u001b[0mi\u001b[0m \u001b[1;32min\u001b[0m \u001b[0mfiles\u001b[0m\u001b[1;33m:\u001b[0m\u001b[1;33m\u001b[0m\u001b[1;33m\u001b[0m\u001b[0m\n\u001b[0m\u001b[0;32m      3\u001b[0m     \u001b[0mmain\u001b[0m\u001b[1;33m,\u001b[0m \u001b[0mextension\u001b[0m \u001b[1;33m=\u001b[0m \u001b[0mos\u001b[0m\u001b[1;33m.\u001b[0m\u001b[0mpath\u001b[0m\u001b[1;33m.\u001b[0m\u001b[0msplitext\u001b[0m\u001b[1;33m(\u001b[0m\u001b[0mi\u001b[0m\u001b[1;33m)\u001b[0m\u001b[1;33m\u001b[0m\u001b[1;33m\u001b[0m\u001b[0m\n\u001b[0;32m      4\u001b[0m     \u001b[1;32mif\u001b[0m \u001b[0mextension\u001b[0m \u001b[1;32mnot\u001b[0m \u001b[1;32min\u001b[0m \u001b[0mextensions\u001b[0m\u001b[1;33m:\u001b[0m\u001b[1;33m\u001b[0m\u001b[1;33m\u001b[0m\u001b[0m\n\u001b[0;32m      5\u001b[0m         \u001b[0mextensions\u001b[0m\u001b[1;33m.\u001b[0m\u001b[0mappend\u001b[0m\u001b[1;33m(\u001b[0m\u001b[0mextension\u001b[0m\u001b[1;33m)\u001b[0m\u001b[1;33m\u001b[0m\u001b[1;33m\u001b[0m\u001b[0m\n",
      "\u001b[1;31mNameError\u001b[0m: name 'files' is not defined"
     ]
    }
   ],
   "source": [
    "# Split all file extension from the dir\n",
    "for i in files:                                        \n",
    "    main, extension = os.path.splitext(i)\n",
    "    if extension not in extensions:\n",
    "        extensions.append(extension)"
   ]
  },
  {
   "cell_type": "code",
   "execution_count": null,
   "id": "bd17d96e",
   "metadata": {},
   "outputs": [],
   "source": [
    "print(extensions)"
   ]
  },
  {
   "cell_type": "code",
   "execution_count": null,
   "id": "09d49779",
   "metadata": {},
   "outputs": [],
   "source": [
    "# create all dirs to organise files\n",
    "for i in extensions:\n",
    "    if i :\n",
    "        os.mkdir(os.path.join(path, i))\n",
    "    "
   ]
  },
  {
   "cell_type": "code",
   "execution_count": null,
   "id": "1bf11f24",
   "metadata": {},
   "outputs": [],
   "source": [
    "#create all files to their respective dirs\n",
    "for i in extensions:\n",
    "    main, extension = os.path.splitext(i)\n",
    "    oldpath = os.path.join(path, i)\n",
    "    newpath = os.path.join(path, extension, i)\n",
    "    os.rename(oldpath, newpath)"
   ]
  },
  {
   "cell_type": "code",
   "execution_count": null,
   "id": "9ad21ad8",
   "metadata": {},
   "outputs": [],
   "source": []
  }
 ],
 "metadata": {
  "kernelspec": {
   "display_name": "Python 3 (ipykernel)",
   "language": "python",
   "name": "python3"
  },
  "language_info": {
   "codemirror_mode": {
    "name": "ipython",
    "version": 3
   },
   "file_extension": ".py",
   "mimetype": "text/x-python",
   "name": "python",
   "nbconvert_exporter": "python",
   "pygments_lexer": "ipython3",
   "version": "3.9.7"
  }
 },
 "nbformat": 4,
 "nbformat_minor": 5
}
